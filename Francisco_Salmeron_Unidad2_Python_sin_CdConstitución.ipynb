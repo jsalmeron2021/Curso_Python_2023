{
  "nbformat": 4,
  "nbformat_minor": 0,
  "metadata": {
    "colab": {
      "provenance": []
    },
    "kernelspec": {
      "name": "python3",
      "display_name": "Python 3"
    },
    "language_info": {
      "name": "python"
    }
  },
  "cells": [
    {
      "cell_type": "markdown",
      "source": [
        "\n",
        "# ***PROGRAMACIÓN PYTHON***\n",
        "\n",
        "---\n",
        "\n",
        "\n",
        "\n"
      ],
      "metadata": {
        "id": "hvOSDIk18k-O"
      }
    },
    {
      "cell_type": "markdown",
      "source": [
        "# **UNIDAD 2  - *Lazos e iteraciones*.**\n",
        "\n",
        "---\n",
        "## Ejecución condicional: if, elif y else.\n",
        "\n",
        "Como en cualquier lenguaje de programación, las estructuras de control en Python permiten cambiar el flujo de ejecución de los programas.\n",
        "\n",
        "La palabra reservada *if* permite direccionar el flujo de ejecución\n",
        "del programa dependiendo de que alguna condición puede ser\n",
        "verdadera o falsa.\n",
        "\n",
        "La sintaxis es la siguiente: \n",
        "\n",
        "**if** *condición*:\n",
        "\n",
        "> *acción1*\n",
        "\n",
        "> *accion2*\n",
        "\n",
        "> ...\n",
        "\n",
        "> *accionM*\n",
        "\n",
        "\n",
        "Como ejemplo práctico, hay que realizar un programa que resuelva ecuaciones de primer grado.\n"
      ],
      "metadata": {
        "id": "ORKz6k_BKrNv"
      }
    },
    {
      "cell_type": "code",
      "execution_count": 1,
      "metadata": {
        "id": "d0NP7wrbKqe-",
        "colab": {
          "base_uri": "https://localhost:8080/"
        },
        "outputId": "86f7485b-dd96-42cd-fb8b-10e3dc45b7b5"
      },
      "outputs": [
        {
          "output_type": "stream",
          "name": "stdout",
          "text": [
            "Introduzca valor de a= 8\n",
            "Introduzca valor de b= 5\n",
            "La solución es:  -0.625\n"
          ]
        }
      ],
      "source": [
        "a=float(input(\"Introduzca valor de a= \"))\n",
        "b=float(input(\"Introduzca valor de b= \"))\n",
        "x=-b/a\n",
        "print(\"La solución es: \", x)"
      ]
    },
    {
      "cell_type": "markdown",
      "source": [
        "Para corregirlo se añadirán condiciones if para evaluar las posibles condiciones en las que puede incurrir el código. Probarlo con valores positivos, negativos, a en cero y b en cero.\n",
        "\n",
        "**NOTA:** Observe las tabulaciones que están dentro de las condiciones if."
      ],
      "metadata": {
        "id": "hy7HGVaNSNjK"
      }
    },
    {
      "cell_type": "code",
      "source": [
        "a=float(input(\"Introduzca valor de a= \"))\n",
        "b=float(input(\"Introduzca valor de b= \"))\n",
        "if a!=0:\n",
        "  x=-b/a\n",
        "  print(\"La solución es: \", x)\n",
        "if a==0:\n",
        "  if b!=0:\n",
        "    print(\"No existe solución para la variable x\")\n",
        "  if b==0:\n",
        "    print(\"tiene infinitas soluciones para la variable x\")\n"
      ],
      "metadata": {
        "id": "D6SDFtRcTQSQ",
        "colab": {
          "base_uri": "https://localhost:8080/"
        },
        "outputId": "d686629e-69f3-43c1-bc9f-efaa146db3f4"
      },
      "execution_count": null,
      "outputs": [
        {
          "output_type": "stream",
          "name": "stdout",
          "text": [
            "Introduzca valor de a= 0\n",
            "Introduzca valor de b= 6\n",
            "No existe solución para la variable x\n"
          ]
        }
      ]
    },
    {
      "cell_type": "markdown",
      "source": [
        "Si es necesario ejecutar acciones distintas cuando la evaluación\n",
        "de la condición sea verdadera o falsa. Se puede utilizar la\n",
        "palabra reservada *else*."
      ],
      "metadata": {
        "id": "2mnjA_BqUEk0"
      }
    },
    {
      "cell_type": "code",
      "source": [
        "a=float(input(\"Introduzca valor de a= \"))\n",
        "b=float(input(\"Introduzca valor de b= \"))\n",
        "if a!=0:\n",
        "  x=-b/a\n",
        "  print(\"La solución es: \", x)\n",
        "else:\n",
        "  if b!=0:\n",
        "    print(\"No existe solución para la variable x\")\n",
        "  else:\n",
        "    print(\"tiene infinitas soluciones para la variable x\")  "
      ],
      "metadata": {
        "id": "6wMkQwXTUL_G",
        "colab": {
          "base_uri": "https://localhost:8080/"
        },
        "outputId": "44ecb222-6946-4fb1-c8f0-ddab606687ce"
      },
      "execution_count": null,
      "outputs": [
        {
          "output_type": "stream",
          "name": "stdout",
          "text": [
            "Introduzca valor de a= 0\n",
            "Introduzca valor de b= 5\n",
            "No existe solución para la variable x\n"
          ]
        }
      ]
    },
    {
      "cell_type": "markdown",
      "source": [
        "También es posible crear estructuras condicionales múltiples con la palabra reservada *elif*."
      ],
      "metadata": {
        "id": "h_4aurGKUbtr"
      }
    },
    {
      "cell_type": "code",
      "source": [
        "a,b=40,40\n",
        "if a<b:\n",
        "    print(a,\" es menor que \", b)\n",
        "elif a>b:\n",
        "    print(a,\" es mayor que \", b)\n",
        "else:\n",
        "    print(a,\" es igual que \", b)"
      ],
      "metadata": {
        "id": "z0V18wuzU-1e",
        "colab": {
          "base_uri": "https://localhost:8080/"
        },
        "outputId": "4abcb49f-2ccf-4dce-d96b-b90a37f10b3d"
      },
      "execution_count": null,
      "outputs": [
        {
          "output_type": "stream",
          "name": "stdout",
          "text": [
            "40  es igual que  40\n"
          ]
        }
      ]
    },
    {
      "cell_type": "markdown",
      "source": [
        "### Operador ternario.\n",
        "\n",
        "En Python existen también el operador ternario, se trata de una clúsula *if - else* que se define dentro de una sola línea, incluso puede ser utilizada dentro de un print(). La estructura es la siguiente:\n",
        "\n",
        "*`[código si se cumple] if [condición] else [código si no se cumple]`*\n",
        "\n"
      ],
      "metadata": {
        "id": "1gIUVTC7V1BT"
      }
    },
    {
      "cell_type": "code",
      "source": [
        "x=8\n",
        "print(\"Es 5\" if x==5 else \"No es 5\")"
      ],
      "metadata": {
        "id": "THOK1ewLZqkL",
        "colab": {
          "base_uri": "https://localhost:8080/"
        },
        "outputId": "76b4abcf-ff86-41b2-8fc7-c4523217bcb4"
      },
      "execution_count": null,
      "outputs": [
        {
          "output_type": "stream",
          "name": "stdout",
          "text": [
            "No es 5\n"
          ]
        }
      ]
    },
    {
      "cell_type": "markdown",
      "source": [
        "También se puede utilizar para asignar valores a variables:"
      ],
      "metadata": {
        "id": "O3IIYOW5Z-ZP"
      }
    },
    {
      "cell_type": "code",
      "source": [
        "a=10\n",
        "b=6\n",
        "c=a/b if b!=0 else -1\n",
        "print(c)"
      ],
      "metadata": {
        "id": "nsx8LJRfaDY8",
        "colab": {
          "base_uri": "https://localhost:8080/"
        },
        "outputId": "9c5587d9-4f57-47d7-dbb5-3f1e7f3aacd9"
      },
      "execution_count": null,
      "outputs": [
        {
          "output_type": "stream",
          "name": "stdout",
          "text": [
            "1.6666666666666667\n"
          ]
        }
      ]
    },
    {
      "cell_type": "markdown",
      "source": [
        "\n",
        "\n",
        "---\n",
        "\n",
        "\n",
        "## Iteraciones: while, for.\n",
        "\n",
        "\n",
        "### Ciclo for.\n",
        "\n",
        "Este ciclo se caracteriza por tener un número de iteraciones definido de antemano. No tiene un candición de paro , más bien contiene un *iterable* que define las veces que se ejecutará el código. El siguiente ejemplo representa un ciclo representa un contador:"
      ],
      "metadata": {
        "id": "h-uOUZdlbDRM"
      }
    },
    {
      "cell_type": "code",
      "source": [],
      "metadata": {
        "id": "lp3beJGPonqH"
      },
      "execution_count": null,
      "outputs": []
    },
    {
      "cell_type": "markdown",
      "source": [
        "### Iterables e iteradores\n",
        "\n",
        "Los **iterables** son aquellos objetos que como su nombre indica pueden ser iterados, lo que dicho de otra forma es, que puedan ser indexados. Si piensas en una`list`, podemos indexarlo con `lista[1]` por ejemplo, por lo que sería un iterable. Algunos ejemplos son: listas, tuplas, cadenas o diccionarios.\n",
        "\n",
        "Los **iteradores** son objetos que hacen referencia a un elemento, y que tienen un método `next` que permite hacer referencia al siguiente.\n",
        "\n",
        "El ciclo for es capaz de recorrer los objetos iterables mediante la siguiente sintaxis:\n",
        "\n",
        "```\n",
        "for <variable> in <iterable>:\n",
        "    <Código>\n",
        "```\n",
        "\n",
        "Para saber si un objeto es iterable, se puede usar la función `isinstance()`:"
      ],
      "metadata": {
        "id": "8jVa4toCo-lK"
      }
    },
    {
      "cell_type": "code",
      "source": [
        "from collections.abc import Iterable\n",
        "\n",
        "lista=[1, 2, 3, 4]\n",
        "cadena=\"Python\"\n",
        "numero=10\n",
        "conjunto=(\"platano\", \"Manzana\", \"Cereza\")\n",
        "\n",
        "print(isinstance(lista, Iterable))\n",
        "print(isinstance(cadena, Iterable))\n",
        "print(isinstance(numero, Iterable))\n",
        "print(isinstance(conjunto, Iterable))"
      ],
      "metadata": {
        "id": "KCeQcbX1zorw",
        "colab": {
          "base_uri": "https://localhost:8080/"
        },
        "outputId": "d5a6e88a-5067-45ff-f7c7-4b871bfe8982"
      },
      "execution_count": 2,
      "outputs": [
        {
          "output_type": "stream",
          "name": "stdout",
          "text": [
            "True\n",
            "True\n",
            "False\n",
            "True\n"
          ]
        }
      ]
    },
    {
      "cell_type": "markdown",
      "source": [
        "La función `iter()` puede ser llamada desde un objeto que sea iterable y retorna un iterador, que es una variable que hace referencia al objeto iterable original y permite acceder a sus elementos con `next()`. Cuando coimienza, el iterador apunta afuera de la lista, y no hace referencia al primer elemento hasta que se llema a `next()` por primera vez."
      ],
      "metadata": {
        "id": "5GLAVL7x0qu7"
      }
    },
    {
      "cell_type": "code",
      "source": [
        "it= iter(conjunto)\n",
        "print(next(it))\n",
        "print(next(it))\n",
        "print(next(it))"
      ],
      "metadata": {
        "id": "QZjKMRJY1Q0F",
        "colab": {
          "base_uri": "https://localhost:8080/"
        },
        "outputId": "34d0a8d5-bba8-4782-88de-ce4639facec3"
      },
      "execution_count": null,
      "outputs": [
        {
          "output_type": "stream",
          "name": "stdout",
          "text": [
            "platano\n",
            "Manzana\n",
            "Cereza\n"
          ]
        }
      ]
    },
    {
      "cell_type": "markdown",
      "source": [],
      "metadata": {
        "id": "dkd1MPbkOOiH"
      }
    },
    {
      "cell_type": "markdown",
      "source": [
        "Existen iteradores para diferentes clases:\n",
        "\n",
        "`str_iterator` para cadenas.\n",
        "\n",
        "`list_iterator` para listas.\n",
        "\n",
        "`tuple_iterator` para tuplas.\n",
        "\n",
        "`set_iterator` para sets.\n",
        "\n",
        "`dict_keyiterator` para diccionarios.\n",
        "\n",
        "El ciclo for, como ya se mencionó anteriormente, permite recorrer objetos iterables, ejemplos:"
      ],
      "metadata": {
        "id": "OOaU_IcJ1frS"
      }
    },
    {
      "cell_type": "code",
      "source": [
        "for i in cadena:\n",
        "    print(i)"
      ],
      "metadata": {
        "id": "Lk4xHnQb2or-",
        "colab": {
          "base_uri": "https://localhost:8080/"
        },
        "outputId": "ec87f92c-dd11-4a63-ab79-3a774fa82361"
      },
      "execution_count": null,
      "outputs": [
        {
          "output_type": "stream",
          "name": "stdout",
          "text": [
            "P\n",
            "y\n",
            "t\n",
            "h\n",
            "o\n",
            "n\n"
          ]
        }
      ]
    },
    {
      "cell_type": "code",
      "source": [
        "for k in conjunto:\n",
        "    print(k)"
      ],
      "metadata": {
        "id": "Q0KL4TAk22os",
        "colab": {
          "base_uri": "https://localhost:8080/"
        },
        "outputId": "7933f265-dd7c-4334-a91c-b1b95d1cc031"
      },
      "execution_count": null,
      "outputs": [
        {
          "output_type": "stream",
          "name": "stdout",
          "text": [
            "platano\n",
            "Manzana\n",
            "Cereza\n"
          ]
        }
      ]
    },
    {
      "cell_type": "markdown",
      "source": [
        "La función `range()` genera una secuencia de números que van desde 0 por defecto hasta el número que se pasa como parámetro menos 1. En realidad, se pueden pasar hasta tres parámetros separados por coma, donde el primer es el inicio de la secuencia, el segundo el final y el tercero el salto que se desea entre números. Por defecto se empieza en 0 y el salto es de 1:\n",
        "\n",
        "`range(inicio, fin, salto)`"
      ],
      "metadata": {
        "id": "C72VB5o13Yq9"
      }
    },
    {
      "cell_type": "code",
      "source": [
        "for k in range(4, 20, 2):\n",
        "    print(k)"
      ],
      "metadata": {
        "id": "9Cs82QqR4aGe",
        "colab": {
          "base_uri": "https://localhost:8080/"
        },
        "outputId": "c7d86c8c-bc94-4d29-b62d-2f606e89c297"
      },
      "execution_count": null,
      "outputs": [
        {
          "output_type": "stream",
          "name": "stdout",
          "text": [
            "4\n",
            "6\n",
            "8\n",
            "10\n",
            "12\n",
            "14\n",
            "16\n",
            "18\n"
          ]
        }
      ]
    },
    {
      "cell_type": "code",
      "source": [
        "for k in range(20, 4, -5):\n",
        "    print(k)"
      ],
      "metadata": {
        "id": "bRq9nUcM4cQD",
        "colab": {
          "base_uri": "https://localhost:8080/"
        },
        "outputId": "3924e023-ee58-4a3f-8883-9838d5c5717b"
      },
      "execution_count": null,
      "outputs": [
        {
          "output_type": "stream",
          "name": "stdout",
          "text": [
            "20\n",
            "15\n",
            "10\n",
            "5\n"
          ]
        }
      ]
    },
    {
      "cell_type": "markdown",
      "source": [
        "Los ciclos `for` también pueden anidarse, como en cualquier lenguaje de programación:"
      ],
      "metadata": {
        "id": "SvTghbBV7QJZ"
      }
    },
    {
      "cell_type": "code",
      "source": [
        "lista=[[50, 34, 1], [12, 4, 5], [9, 4, 2]]\n",
        "#print(lista)\n",
        "for i in lista:\n",
        "    for k in i:\n",
        "        print(i,k)"
      ],
      "metadata": {
        "id": "id-E0OHJ7fuE",
        "colab": {
          "base_uri": "https://localhost:8080/"
        },
        "outputId": "c9b79d61-b356-40a1-ad86-91479d79543d"
      },
      "execution_count": null,
      "outputs": [
        {
          "output_type": "stream",
          "name": "stdout",
          "text": [
            "[50, 34, 1] 50\n",
            "[50, 34, 1] 34\n",
            "[50, 34, 1] 1\n",
            "[12, 4, 5] 12\n",
            "[12, 4, 5] 4\n",
            "[12, 4, 5] 5\n",
            "[9, 4, 2] 9\n",
            "[9, 4, 2] 4\n",
            "[9, 4, 2] 2\n"
          ]
        }
      ]
    },
    {
      "cell_type": "markdown",
      "source": [
        "## Ciclo while\n",
        "\n",
        "EL ciclo while repetirá las sentencias dentro de él, mientras se cumpla la condición especificada."
      ],
      "metadata": {
        "id": "UzmhbaSt3M2H"
      }
    },
    {
      "cell_type": "code",
      "source": [
        "x=0\n",
        "while x<=6:\n",
        "    print(\"El valor del contador \", x)\n",
        "    x+=1\n",
        "print(\"Fin de ciclo\")"
      ],
      "metadata": {
        "id": "7QhxewRQ5QXr",
        "colab": {
          "base_uri": "https://localhost:8080/"
        },
        "outputId": "5fcadb01-cd58-4768-93c4-3fdc7431d1d1"
      },
      "execution_count": null,
      "outputs": [
        {
          "output_type": "stream",
          "name": "stdout",
          "text": [
            "El valor del contador  0\n",
            "El valor del contador  1\n",
            "El valor del contador  2\n",
            "El valor del contador  3\n",
            "El valor del contador  4\n",
            "El valor del contador  5\n",
            "El valor del contador  6\n",
            "Fin de ciclo\n"
          ]
        }
      ]
    },
    {
      "cell_type": "markdown",
      "source": [
        "También es posible escribir ciclos while en una sóla línea."
      ],
      "metadata": {
        "id": "is175SQ25my4"
      }
    },
    {
      "cell_type": "code",
      "source": [],
      "metadata": {
        "id": "gSGf-US-5v51"
      },
      "execution_count": null,
      "outputs": []
    },
    {
      "cell_type": "markdown",
      "source": [
        "También permite recorrer algún elemento iterable mientras existan elementos en él, por ejemplo, una lista y en cada iteración se va eliminando un dato:"
      ],
      "metadata": {
        "id": "zA1soQIf6Blf"
      }
    },
    {
      "cell_type": "code",
      "source": [
        "x=[\"uno\", \"dos\", \"tres\"]\n",
        "while x:\n",
        "    x.pop(0)\n",
        "    print(x)"
      ],
      "metadata": {
        "id": "V8xuzrnH6OHq",
        "colab": {
          "base_uri": "https://localhost:8080/"
        },
        "outputId": "f5df9a01-01ab-4750-b92b-12a6104ba69b"
      },
      "execution_count": null,
      "outputs": [
        {
          "output_type": "stream",
          "name": "stdout",
          "text": [
            "['dos', 'tres']\n",
            "['tres']\n",
            "[]\n"
          ]
        }
      ]
    },
    {
      "cell_type": "markdown",
      "source": [
        "En Python, es posible mezclar la palabra reservada `else`, con el `while`. Servirá para ejecutar código una vez que el ciclo allá terminado normalmente:"
      ],
      "metadata": {
        "id": "39fdoJ1D6yId"
      }
    },
    {
      "cell_type": "code",
      "source": [
        "k=0\n",
        "while k<6:\n",
        "    print(\"Valor del contador \", k)\n",
        "    k+=1\n",
        "else:\n",
        "    print(\"Todo OK\")"
      ],
      "metadata": {
        "id": "RoZNYls067TJ",
        "colab": {
          "base_uri": "https://localhost:8080/"
        },
        "outputId": "5c33a4be-a7d4-42c0-b7e6-e9daa3a3d6be"
      },
      "execution_count": null,
      "outputs": [
        {
          "output_type": "stream",
          "name": "stdout",
          "text": [
            "Valor del contador  0\n",
            "Valor del contador  1\n",
            "Valor del contador  2\n",
            "Valor del contador  3\n",
            "Valor del contador  4\n",
            "Valor del contador  5\n",
            "Todo OK\n"
          ]
        }
      ]
    },
    {
      "cell_type": "markdown",
      "source": [
        "Como el ciclo `while` ejecuta las sentencias en su interior cuando la condición es verdadera, se deberá tener cuidado de no generar ciclos infinitos, a menos que sea requerido por el programa a realizar. El siguiente ejemplo es válido, pero ocasionará que el programa quedé \"colgado\" infinitamente:\n",
        "```\n",
        "while True:\n",
        "  print(\"hola\")\n",
        "```"
      ],
      "metadata": {
        "id": "pRd6tSDV8G__"
      }
    },
    {
      "cell_type": "markdown",
      "source": [
        "## Modificación de ciclos.\n",
        "\n",
        "`Break` permite detener la ejecución del ciclo. Una vez que el interprete encuentre la palabra, el ciclo terminará, sin embargo se puede considerar que es un final forzado.\n",
        "\n",
        "Se puede utilizar tanto con ciclos `for` y `while`. Comúnmente se usa para establecer una condición de parada del ciclo y así evitar consumir ciclos de reloj de la computadora:"
      ],
      "metadata": {
        "id": "-214nBsp9I_P"
      }
    },
    {
      "cell_type": "code",
      "source": [
        "k=0\n",
        "while k<6:\n",
        "    if k==4:\n",
        "        k+=1\n",
        "        break\n",
        "    else:\n",
        "        print(\"Valor del contador \", k)\n",
        "        k+=1\n",
        "else:\n",
        "    print(\"Todo OK\")"
      ],
      "metadata": {
        "id": "S2clWJf6Gbww",
        "colab": {
          "base_uri": "https://localhost:8080/"
        },
        "outputId": "933f713b-b2f0-4f8e-abef-763894427dc2"
      },
      "execution_count": null,
      "outputs": [
        {
          "output_type": "stream",
          "name": "stdout",
          "text": [
            "Valor del contador  0\n",
            "Valor del contador  1\n",
            "Valor del contador  2\n",
            "Valor del contador  3\n"
          ]
        }
      ]
    },
    {
      "cell_type": "code",
      "source": [],
      "metadata": {
        "id": "5412fI7IWiwr"
      },
      "execution_count": null,
      "outputs": []
    },
    {
      "cell_type": "markdown",
      "source": [
        "El siguiente ejemplo muestra como un ciclo infinito se puede detener con una condición y un sentencia `break`:"
      ],
      "metadata": {
        "id": "V01ic2svGlTQ"
      }
    },
    {
      "cell_type": "code",
      "source": [],
      "metadata": {
        "id": "u085-tTgGvU2"
      },
      "execution_count": null,
      "outputs": []
    },
    {
      "cell_type": "markdown",
      "source": [
        "Si `break` se encuentra dentro de ciclos anidados, únicamente detendŕa el ciclo en el que se encuentra:"
      ],
      "metadata": {
        "id": "1TdVnd3KHjQ7"
      }
    },
    {
      "cell_type": "code",
      "source": [],
      "metadata": {
        "id": "rJ10913nHqDg"
      },
      "execution_count": null,
      "outputs": []
    },
    {
      "cell_type": "markdown",
      "source": [
        "La otra sentencia que permite modificar los ciclos en Python es la palabra reservada `continue`. Ésta permite que dentro de un ciclo se \"salte\" las líneas posteriores a donde se encuentra, haciendo que el ciclo continue su ejecución en la siguiente iteración:"
      ],
      "metadata": {
        "id": "bZVwKZY-I8dd"
      }
    },
    {
      "cell_type": "code",
      "source": [],
      "metadata": {
        "id": "nqOnyWCwJ8C4"
      },
      "execution_count": null,
      "outputs": []
    },
    {
      "cell_type": "markdown",
      "source": [
        "Como se puede observar, si bien se brinco el `print()`, únicamente no lo ejecuta en esa iteración, siendo que en las demás se ejecuta normalmente.\n",
        "\n",
        "Un ejemplo con `while`:"
      ],
      "metadata": {
        "id": "2UdG4xMyKCvr"
      }
    },
    {
      "cell_type": "code",
      "source": [],
      "metadata": {
        "id": "YicB0SL3MXQw"
      },
      "execution_count": null,
      "outputs": []
    },
    {
      "cell_type": "markdown",
      "source": [
        "***COMPARTE TUS REFLEXIONES DE LOS TEMAS VISTOS ANTERIORMENTE.***"
      ],
      "metadata": {
        "id": "SG9zH2AYMsnV"
      }
    },
    {
      "cell_type": "markdown",
      "source": [
        "________________________________________________________________________________\n",
        "________________________________________________________________________________\n",
        "________________________________________________________________________________\n",
        "________________________________________________________________________________\n",
        "________________________________________________________________________________\n"
      ],
      "metadata": {
        "id": "zsdUdF9w-pew"
      }
    }
  ]
}